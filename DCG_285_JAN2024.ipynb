{
  "nbformat": 4,
  "nbformat_minor": 0,
  "metadata": {
    "colab": {
      "provenance": [],
      "authorship_tag": "ABX9TyPFBmBA9pQ6yoZaAFjjP/XV",
      "include_colab_link": true
    },
    "kernelspec": {
      "name": "python3",
      "display_name": "Python 3"
    },
    "language_info": {
      "name": "python"
    }
  },
  "cells": [
    {
      "cell_type": "markdown",
      "metadata": {
        "id": "view-in-github",
        "colab_type": "text"
      },
      "source": [
        "<a href=\"https://colab.research.google.com/github/mathusimon/Practicalexam/blob/main/DCG_285_JAN2024.ipynb\" target=\"_parent\"><img src=\"https://colab.research.google.com/assets/colab-badge.svg\" alt=\"Open In Colab\"/></a>"
      ]
    },
    {
      "cell_type": "markdown",
      "source": [
        "QUESTION ONE"
      ],
      "metadata": {
        "id": "A1yJ3qSsfORV"
      }
    },
    {
      "cell_type": "code",
      "source": [
        "def multiply_numbers(x,y):\n",
        "  return(x*y)\n",
        "z=multiply_numbers(10,20)\n",
        "print(z)"
      ],
      "metadata": {
        "colab": {
          "base_uri": "https://localhost:8080/"
        },
        "id": "qcUZh6A0fs11",
        "outputId": "27be96f4-57fe-42e8-819a-0265cd4cc93a"
      },
      "execution_count": 26,
      "outputs": [
        {
          "output_type": "stream",
          "name": "stdout",
          "text": [
            "200\n"
          ]
        }
      ]
    },
    {
      "cell_type": "markdown",
      "source": [
        "QUESTION TWO"
      ],
      "metadata": {
        "id": "unes6Qhfhzi6"
      }
    },
    {
      "cell_type": "code",
      "source": [
        "height=str(input(\"input height::\"))\n",
        "if height >= \"150cm\":\n",
        "  print(\"Tall enough\")\n",
        "else:\n",
        "  print(\"You are not tall enough\")\n",
        "\n"
      ],
      "metadata": {
        "colab": {
          "base_uri": "https://localhost:8080/"
        },
        "id": "bIBa1-o0h2yI",
        "outputId": "b3d51a8c-dfdd-4f47-d631-83f388ab7bc1"
      },
      "execution_count": 27,
      "outputs": [
        {
          "output_type": "stream",
          "name": "stdout",
          "text": [
            "input height::110cm\n",
            "You are not tall enough\n"
          ]
        }
      ]
    },
    {
      "cell_type": "markdown",
      "source": [
        "QUESTION THREE"
      ],
      "metadata": {
        "id": "sAU_MjrVjveF"
      }
    },
    {
      "cell_type": "code",
      "source": [
        "wild_animals=list((\"lion\",\"zebra\",\"leopard\",\"cheetah\",\"rhino\"))\n",
        "for x in wild_animals:\n",
        "  print(x)\n",
        "#the for loop access each animal through the list while print(x) outputs each of the animal"
      ],
      "metadata": {
        "colab": {
          "base_uri": "https://localhost:8080/"
        },
        "id": "h72GmtGdj2mq",
        "outputId": "c510f842-5a53-48d3-a15b-d3d03d34edd7"
      },
      "execution_count": 33,
      "outputs": [
        {
          "output_type": "stream",
          "name": "stdout",
          "text": [
            "lion\n",
            "zebra\n",
            "leopard\n",
            "cheetah\n",
            "rhino\n"
          ]
        }
      ]
    },
    {
      "cell_type": "markdown",
      "source": [
        "QUESTION FOUR"
      ],
      "metadata": {
        "id": "35vFsM5wl1wO"
      }
    },
    {
      "cell_type": "code",
      "source": [
        "student={\"Name\":\"Simon\",\"Age\":22,\"Gender\":\"Male\",\"Weight\":\"60Kg\",\"Course\":\"Gis\"}\n",
        "student[\"Weight\"]=\"70kg\"\n",
        "print(student)"
      ],
      "metadata": {
        "colab": {
          "base_uri": "https://localhost:8080/"
        },
        "id": "9X77KYoSl4wx",
        "outputId": "ed68ab30-52ec-4261-ab10-62a84ebd3c31"
      },
      "execution_count": 30,
      "outputs": [
        {
          "output_type": "stream",
          "name": "stdout",
          "text": [
            "{'Name': 'Simon', 'Age': 22, 'Gender': 'Male', 'Weight': '70kg', 'Course': 'Gis'}\n"
          ]
        }
      ]
    },
    {
      "cell_type": "markdown",
      "source": [
        "QUESTION FIVE"
      ],
      "metadata": {
        "id": "uX1MSYjmnn_T"
      }
    },
    {
      "cell_type": "code",
      "source": [
        "X=[\"A\",\"B\",\"C\",\"D\"]\n",
        "Y=[1,7,5,3]\n",
        "\n",
        "import matplotlib.pyplot as plt\n",
        "plt.bar(X,Y)\n",
        "plt.xlabel(\"x-axis\")\n",
        "plt.ylabel(\"y-axis\")\n",
        "plt.title(\"Bar Graph\")\n",
        "plt.show()"
      ],
      "metadata": {
        "colab": {
          "base_uri": "https://localhost:8080/",
          "height": 472
        },
        "id": "wkBLrIMCnspK",
        "outputId": "c5a2d5e3-6c2a-444e-dd37-787717c1765e"
      },
      "execution_count": 31,
      "outputs": [
        {
          "output_type": "display_data",
          "data": {
            "text/plain": [
              "<Figure size 640x480 with 1 Axes>"
            ],
            "image/png": "[encoded data removed]"
          },
          "metadata": {}
        }
      ]
    }
  ]
}